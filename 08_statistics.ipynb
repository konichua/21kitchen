{
  "cells": [
    {
      "cell_type": "markdown",
      "metadata": {
        "id": "view-in-github",
        "colab_type": "text"
      },
      "source": [
        "<a href=\"https://colab.research.google.com/github/konichua/21kitchen/blob/master/08_statistics.ipynb\" target=\"_parent\"><img src=\"https://colab.research.google.com/assets/colab-badge.svg\" alt=\"Open In Colab\"/></a>"
      ]
    },
    {
      "cell_type": "markdown",
      "id": "b4ff8cb8",
      "metadata": {
        "pycharm": {
          "name": "#%% md\n"
        },
        "id": "b4ff8cb8"
      },
      "source": [
        "Fill in your github username and idm credentials below:"
      ]
    },
    {
      "cell_type": "code",
      "execution_count": null,
      "id": "f0b21494",
      "metadata": {
        "pycharm": {
          "is_executing": true,
          "name": "#%%\n"
        },
        "vscode": {
          "languageId": "python"
        },
        "id": "f0b21494"
      },
      "outputs": [],
      "source": [
        "github_username = \"konichua\"\n",
        "idm_credentials = \"il71ywod\""
      ]
    },
    {
      "cell_type": "markdown",
      "id": "4b335cbf",
      "metadata": {
        "pycharm": {
          "name": "#%% md\n"
        },
        "id": "4b335cbf"
      },
      "source": [
        "---"
      ]
    },
    {
      "cell_type": "markdown",
      "id": "755c6140-79ab-496f-9e79-71972edca5bc",
      "metadata": {
        "pycharm": {
          "name": "#%% md\n"
        },
        "id": "755c6140-79ab-496f-9e79-71972edca5bc"
      },
      "source": [
        "# **Applied Data Science in Medicine & Psychology - Assignment 8**\n",
        "## Statistics\n",
        "---\n",
        "**Deadline: 04.07.2023, 23:59**\n",
        "### **General setup and submission**\n",
        "1. Save an editable copy of this notebook to your Google Drive ``File`` $\\rightarrow$ ``Save a copy in Drive`` and remove the automatically appended \"Copy of\" text. **Do not change the file name**.\n",
        "2. Work on the assignment in the *copied* version of the notebook. Make sure that you **replace** all parts of the tasks indicated with *YOUR CODE HERE* and **raise NotImplementedError()** (otherwise this causes an error in your implementation) or *YOUR ANSWER HERE* with your solution.\n",
        "3. If you take a break during the implementation, you can save the current status of your work in your repository following the submission instructions below. When you continue working on the assignment, do this in the version of the notebook that you saved in your Google Drive (access from your Google Colab account) or your repository.\n",
        "4. After finishing the assignment submit your assignment as follows:\n",
        "    * Check that everything runs as expected. To do that select in the menubar ``Runtime`` $\\rightarrow$ ``Restart and run all``. This will clear all your local variables and runs your notebook from the beginning\n",
        "    * Save your notebook, click ``File`` $\\rightarrow$ ``Save``\n",
        "    * Click ``File`` $\\rightarrow$ ``Save a copy in GitHub``\n",
        "    * Select ``digikolleg-data-science-psychology/08_statistics-<username>`` from the Repository drop-down menu\n",
        "    * Type ``08_statistics.ipynb`` into the File path text box\n",
        "    * Optionally, you may enter a description into the \"Commit message\" text box (like: \"solved task 1\" or \"ready for grading\")\n",
        "    * Make sure that the \"Include a link to Colaboratory\" box is checked\n",
        "    * Press \"Ok\"\n",
        "    * A new tab or window should open up, displaying your submitted notebook within your GitHub repository\n",
        "\n",
        "Before the assignment deadline, you can re-submit your assignment as often as you would like. This will update the copy of your assignment file in your assignment's repository."
      ]
    },
    {
      "cell_type": "markdown",
      "id": "2fe61c2c-a030-4c02-8214-7db7d1c10df5",
      "metadata": {
        "id": "2fe61c2c-a030-4c02-8214-7db7d1c10df5"
      },
      "source": [
        "### **Assignment Description**\n",
        "In this assignment, you will dive into the world of statistics using Python libraries. You will learn to generate distributions, correct outliers, and perform different types of statistical analyses on two datasets.\n",
        "\n",
        "#### **Assignment goals**\n",
        "You are going to learn the following things in this assignment:\n",
        "1. how to create distributions with different parameters\n",
        "2. how to perform one way of outlier correction\n",
        "3. how to perform preparatory analysis using a library\n",
        "4. how to perform statistical analysis using a library\n",
        "\n",
        "#### **Assignment point value**\n",
        "This assignment is worth a total (up to) **11** points. If your code passes all of the manual and automatic tests you will receive full credit."
      ]
    },
    {
      "cell_type": "markdown",
      "id": "89d2a637-e274-43a8-a88a-23bb204e96db",
      "metadata": {
        "id": "89d2a637-e274-43a8-a88a-23bb204e96db"
      },
      "source": [
        "### **Tasks**\n",
        "Make sure that you now work on your *copied* version of this assignment's notebook."
      ]
    },
    {
      "cell_type": "markdown",
      "id": "42e90337-1130-4412-b037-d1267bc45101",
      "metadata": {
        "id": "42e90337-1130-4412-b037-d1267bc45101"
      },
      "source": [
        "#### 0. Imports and Setup\n",
        "Please **run** the cell below to import the libraries needed for this assignment."
      ]
    },
    {
      "cell_type": "code",
      "execution_count": null,
      "id": "23f1cef0-5d30-4548-b6b6-4020b3013f8c",
      "metadata": {
        "id": "23f1cef0-5d30-4548-b6b6-4020b3013f8c"
      },
      "outputs": [],
      "source": [
        "import matplotlib.pyplot as plt\n",
        "import numpy as np\n",
        "import pandas as pd\n",
        "!pip install biopsykit\n",
        "import biopsykit as bp\n",
        "from scipy import stats\n",
        "!pip install pingouin\n",
        "import pingouin as pg"
      ]
    },
    {
      "cell_type": "markdown",
      "id": "d39917ec-e874-4068-b309-2cc4e6f0315e",
      "metadata": {
        "id": "d39917ec-e874-4068-b309-2cc4e6f0315e"
      },
      "source": [
        "#### 1. Introductory Task\n",
        "In this task, we will create a bimodal distribution from two Gaussian distributions and implement one possible way of outlier correction.\n",
        "\n",
        "##### 1.1 Create a bimodal distribution ``data`` with 20000 samples. To do so:\n",
        "* Create a Gaussian distribution ``data_1`` with mean: 17, standard deviation: 5, and 10000 samples\n",
        "* Create a Gaussian distribution ``data_2`` with mean: 28, standard deviation: 3, and 10000 samples\n",
        "* Concatenate ``data_1`` and ``data_2`` to ``data`` and convert ``data`` to type int\n",
        "\n",
        "**Hint**: Check out if [numpy.random.normal](https://numpy.org/doc/stable/reference/random/generated/numpy.random.normal.html) can help you to solve the task."
      ]
    },
    {
      "cell_type": "code",
      "execution_count": null,
      "id": "aae3e447-5525-4c2d-9be5-1b6ceb97ea95",
      "metadata": {
        "deletable": false,
        "nbgrader": {
          "cell_type": "code",
          "checksum": "357aafc999104c31d352630b75d1b9c3",
          "grade": false,
          "grade_id": "create_distribution",
          "locked": false,
          "schema_version": 3,
          "solution": true,
          "task": false
        },
        "tags": [],
        "id": "aae3e447-5525-4c2d-9be5-1b6ceb97ea95"
      },
      "outputs": [],
      "source": [
        "np.random.seed(0) # do not delete: makes random numbers predictable\n",
        "\n",
        "# YOUR CODE HERE\n",
        "raise NotImplementedError()"
      ]
    },
    {
      "cell_type": "code",
      "execution_count": null,
      "id": "6d973162-05b7-4dc9-95b0-f66c62d49ab2",
      "metadata": {
        "deletable": false,
        "editable": false,
        "nbgrader": {
          "cell_type": "code",
          "checksum": "313374f9fb94226aca3bd30430b2fb99",
          "grade": true,
          "grade_id": "create_distribution_test",
          "locked": true,
          "points": 1,
          "schema_version": 3,
          "solution": false,
          "task": false
        },
        "tags": [],
        "id": "6d973162-05b7-4dc9-95b0-f66c62d49ab2"
      },
      "outputs": [],
      "source": [
        "# run tests to check your implementation\n",
        "assert np.shape(data_1) == (10000,) and np.shape(data_2) == (10000,) and np.shape(data) == (20000,), \"Check the shapes of data_1, data_2, and data\"\n",
        "assert data.dtype == int, \"Check if you converted the values to type int\"\n",
        "assert np.mean(data_1) > 16.5 and np.mean(data_1) < 17.5 and np.std(data_1) > 4.5 and np.std(data_1) < 5.5, \"Check mean and standard deviation of data_1\"\n",
        "assert np.mean(data_2) > 27.5 and np.mean(data_2) < 28.5 and np.std(data_2) > 2.5 and np.std(data_2) < 3.5, \"Check mean and standard deviation of data_2\""
      ]
    },
    {
      "cell_type": "code",
      "execution_count": null,
      "id": "d4dc3be6-7a93-47b8-8edb-0f43e705acb6",
      "metadata": {
        "tags": [],
        "id": "d4dc3be6-7a93-47b8-8edb-0f43e705acb6"
      },
      "outputs": [],
      "source": [
        "# run cell to visualize data\n",
        "bins = np.arange(start=0.5, stop=41.5, step=1).tolist()\n",
        "fig, axs = plt.subplots(ncols=3, figsize=(8, 3), sharey=True, sharex=True)\n",
        "_ = axs[0].hist(data_1, bins=bins)\n",
        "_ = axs[1].hist(data_2, bins=bins)\n",
        "_ = axs[2].hist(data, bins=bins)\n",
        "for ax in axs: ax.set_xlabel(\"random numbers\")\n",
        "for ax, t in zip(axs, [\"data_1\", \"data_2\", \"data\"]): ax.set_title(t)\n",
        "axs[0].set_ylabel(\"number of occurence\")\n",
        "fig.tight_layout()"
      ]
    },
    {
      "cell_type": "markdown",
      "id": "18e47176-9aba-46d3-91ff-ed14f84b4a57",
      "metadata": {
        "tags": [],
        "id": "18e47176-9aba-46d3-91ff-ed14f84b4a57"
      },
      "source": [
        "##### 1.2 Calculate the mean, median, and mode of ``data`` and store the values in ``data_mean``, ``data_median``, and ``data_mode``. Make sure that ``data_mode`` is of type int:\n",
        "\n",
        "**Hint**: You can use either ``numpy`` or ``scipy.stats`` functions for that."
      ]
    },
    {
      "cell_type": "code",
      "execution_count": null,
      "id": "229afc3a-23ce-49ab-86e5-84d534bff5c2",
      "metadata": {
        "deletable": false,
        "nbgrader": {
          "cell_type": "code",
          "checksum": "8868425cf778dab1f1b30531d62ebbb4",
          "grade": false,
          "grade_id": "mean_median_mode",
          "locked": false,
          "schema_version": 3,
          "solution": true,
          "task": false
        },
        "tags": [],
        "id": "229afc3a-23ce-49ab-86e5-84d534bff5c2"
      },
      "outputs": [],
      "source": [
        "# YOUR CODE HERE\n",
        "raise NotImplementedError()"
      ]
    },
    {
      "cell_type": "code",
      "execution_count": null,
      "id": "f622ffd5-11ec-4cd8-83d0-981609308c7e",
      "metadata": {
        "deletable": false,
        "editable": false,
        "nbgrader": {
          "cell_type": "code",
          "checksum": "3ffb3c8e874a9825df468f1cde19c0d5",
          "grade": true,
          "grade_id": "mean_median_mode_test",
          "locked": true,
          "points": 1,
          "schema_version": 3,
          "solution": false,
          "task": false
        },
        "tags": [],
        "id": "f622ffd5-11ec-4cd8-83d0-981609308c7e"
      },
      "outputs": [],
      "source": [
        "# run test to check your implementation\n",
        "assert type(data_mode) == int, \"Check your conversion to int of data_mode\"\n",
        "assert data_mean > 15 and data_median > 15 and data_mode > 15, \"Check the calculation\""
      ]
    },
    {
      "cell_type": "markdown",
      "id": "0aea1381-19d5-4a63-a2b2-e0403d2798ca",
      "metadata": {
        "tags": [],
        "id": "0aea1381-19d5-4a63-a2b2-e0403d2798ca"
      },
      "source": [
        "##### 1.3 Replace all points of ``data`` that are more than two standard deviations away from the mean with ``data_median`` and save the corrected version as ``data_corrected``:\n",
        "\n",
        "**Hint**: Check out if [scipy.stats.zscore](https://docs.scipy.org/doc/scipy/reference/generated/scipy.stats.zscore.html) can help you with this task."
      ]
    },
    {
      "cell_type": "code",
      "execution_count": null,
      "id": "6bc40ef8-9a8c-4ca7-9967-d0f9cd068512",
      "metadata": {
        "deletable": false,
        "nbgrader": {
          "cell_type": "code",
          "checksum": "6544ead879d4f170ad00ca1b4e0a2b66",
          "grade": false,
          "grade_id": "outlier_correction",
          "locked": false,
          "schema_version": 3,
          "solution": true,
          "task": false
        },
        "tags": [],
        "id": "6bc40ef8-9a8c-4ca7-9967-d0f9cd068512"
      },
      "outputs": [],
      "source": [
        "# YOUR CODE HERE\n",
        "raise NotImplementedError()"
      ]
    },
    {
      "cell_type": "code",
      "execution_count": null,
      "id": "128e927d-2a16-48e1-9999-4aa213336b42",
      "metadata": {
        "deletable": false,
        "editable": false,
        "nbgrader": {
          "cell_type": "code",
          "checksum": "e2918b383808bd9c7b76e40baca6e4e3",
          "grade": true,
          "grade_id": "outlier_correction_test",
          "locked": true,
          "points": 1,
          "schema_version": 3,
          "solution": false,
          "task": false
        },
        "tags": [],
        "id": "128e927d-2a16-48e1-9999-4aa213336b42"
      },
      "outputs": [],
      "source": [
        "# run tests to check your implementation\n",
        "assert np.min(data_corrected) > np.min(data) and np.max(data_corrected) < np.max(data), \"Check whether you replaced outliers on both sides of the mean\"\n",
        "assert np.sum(data_corrected == data_median) > 1000, \"Check if you replace all outliers with data_median\""
      ]
    },
    {
      "cell_type": "code",
      "execution_count": null,
      "id": "7b19bbb0-dfe6-479c-aea7-563e992b7035",
      "metadata": {
        "tags": [],
        "id": "7b19bbb0-dfe6-479c-aea7-563e992b7035"
      },
      "outputs": [],
      "source": [
        "# run cell to visualize both distributions\n",
        "bins = np.arange(start=0.5, stop=41.5, step=1).tolist()\n",
        "fig, axs = plt.subplots(ncols=2, figsize=(6, 3), sharey=True, sharex=True)\n",
        "_ = axs[0].hist(data, bins=bins)\n",
        "axs[0].set_title(\"original distribution\")\n",
        "axs[0].set_xlabel(\"random numbers\")\n",
        "axs[0].set_ylabel(\"number of occurence\")\n",
        "for val, key, c in zip([data_mean, data_median, data_mode], [\"mean\", \"median\", \"mode\"], [\"tab:orange\", \"tab:green\", \"tab:red\"]):\n",
        "    axs[0].axvline(val, color=c, label=key)\n",
        "axs[0].legend()\n",
        "_ = axs[1].hist(data_corrected, bins=bins)\n",
        "axs[1].set_title(\"outlier corrected distribution\")\n",
        "axs[1].set_xlabel(\"random numbers\")\n",
        "fig.tight_layout()"
      ]
    },
    {
      "cell_type": "markdown",
      "id": "a235f316-2518-4987-af6b-b0079c87b69d",
      "metadata": {
        "id": "a235f316-2518-4987-af6b-b0079c87b69d"
      },
      "source": [
        "#### 2. Questionnaire Analysis\n",
        "In this task, we use a dataset where 38 participants filled out the Positive and Negative Affect Schedule (PANAS) questionnaire before (pre) and after (post) undergoing a study protocol. The PANAS questionnaire is a self-report questionnaire consisting of 20 adjectives (like interested or ashamed) that describe different sensations and feelings. The participants rate all items individually on a 5-point scale indicating how strongly they felt this way. By averaging the scores of 10 of the items, Positive Affect and Negative Affect can be calculated. By averaging the inverted Negative Affect and Positive Affect scores, a Total score over all items can be computed."
      ]
    },
    {
      "cell_type": "code",
      "execution_count": null,
      "id": "ffd4a008-ab18-479d-ad1b-8e5998e48aa2",
      "metadata": {
        "tags": [],
        "id": "ffd4a008-ab18-479d-ad1b-8e5998e48aa2"
      },
      "outputs": [],
      "source": [
        "# run cell to load and visualize data\n",
        "data_panas = bp.example_data.get_stats_example()\n",
        "fig, ax = plt.subplots(figsize=(6, 3))\n",
        "bp.plotting.feature_boxplot(data=data_panas, x=\"subscale\", y=\"PANAS\", hue=\"time\", hue_order=[\"pre\", \"post\"], ax=ax)\n",
        "fig.tight_layout()"
      ]
    },
    {
      "cell_type": "code",
      "execution_count": null,
      "id": "8f56bf83-0186-4592-91ad-f8694be79b02",
      "metadata": {
        "tags": [],
        "id": "8f56bf83-0186-4592-91ad-f8694be79b02"
      },
      "outputs": [],
      "source": [
        "# run cell to visualize the data frame structure\n",
        "data_analysis = data_panas.reset_index()\n",
        "data_analysis.head()"
      ]
    },
    {
      "cell_type": "markdown",
      "id": "8311c81e-b5e7-416c-b4dc-3c9046ac982e",
      "metadata": {
        "id": "8311c81e-b5e7-416c-b4dc-3c9046ac982e"
      },
      "source": [
        "##### 2.1 Perform a statistical analysis for the PANAS data stored in ``data_analysis`` to test for differences between group means (differences between pre and post questionnaires separately for all the subscales):\n",
        "* Follow the guidelines described in the lecture slides or provided by [pingouin](https://pingouin-stats.org/build/html/guidelines.html)\n",
        "* You should use the ``pingouin`` functions for your analysis\n",
        "* Store your results in a data frame called ``results_statistics``\n",
        "    * ``results_statistics`` should have one row for the results of every subscale and all the outputs of the ``pingouin`` function as columns\n",
        "    * Set the subscales as the indices of ``results_statistics``\n",
        "\n",
        "**Hint**: The [pingouin guidelines](https://pingouin-stats.org/build/html/guidelines.html) already show the respective *functions* for the statistical tests."
      ]
    },
    {
      "cell_type": "code",
      "execution_count": null,
      "id": "33698d3e-8ed0-4a54-b283-2758bc057718",
      "metadata": {
        "deletable": false,
        "nbgrader": {
          "cell_type": "code",
          "checksum": "1ea32b64643eaf6fba2ba4143db519d7",
          "grade": false,
          "grade_id": "stats_question",
          "locked": false,
          "schema_version": 3,
          "solution": true,
          "task": false
        },
        "tags": [],
        "id": "33698d3e-8ed0-4a54-b283-2758bc057718"
      },
      "outputs": [],
      "source": [
        "# YOUR CODE HERE\n",
        "raise NotImplementedError()"
      ]
    },
    {
      "cell_type": "code",
      "execution_count": null,
      "id": "3115483b-9db3-493d-896e-75b22a3adf76",
      "metadata": {
        "deletable": false,
        "editable": false,
        "nbgrader": {
          "cell_type": "code",
          "checksum": "c59e930f34ff9c3e5562d104b0d597b1",
          "grade": true,
          "grade_id": "stats_question_test",
          "locked": true,
          "points": 2,
          "schema_version": 3,
          "solution": false,
          "task": false
        },
        "tags": [],
        "id": "3115483b-9db3-493d-896e-75b22a3adf76"
      },
      "outputs": [],
      "source": [
        "# run tests to check your implementation\n",
        "assert type(results_statistics) == pd.DataFrame, \"Check if results_statistics is of type pandas.DataFrame\"\n",
        "assert results_statistics.shape[0] == 3, \"Check if you performed and stored the results for all subscales\"\n",
        "assert list(results_statistics.index) == [\"NegativeAffect\", \"PositiveAffect\", \"Total\"], \"Check if you set the indices correctly\"\n",
        "assert results_statistics[\"Paired\"].sum() == 3, \"Check your analysis parameters\"\n",
        "assert list(results_statistics[\"Contrast\"])[0] == \"time\" and list(results_statistics[\"A\"])[0] == \"post\" and list(results_statistics[\"B\"])[0] == \"pre\", \"Check your analysis parameters\"\n",
        "pval = list(results_statistics[\"p-unc\"])\n",
        "assert pval[0] < 0.2 and pval[1] < 0.0000006 and pval[2] < 0.000000007, \"Check your analysis parameters\""
      ]
    },
    {
      "cell_type": "markdown",
      "id": "386e5dcf-7d3d-46f9-a8b9-cf424f4ca762",
      "metadata": {
        "id": "386e5dcf-7d3d-46f9-a8b9-cf424f4ca762"
      },
      "source": [
        "#### 3. Cortisol Analysis\n",
        "In this task, we will use data from the same study as in the last assignment, which investigated the capability of the Cold Face Test (CFT) to reduce acute stress. Two groups underwent a similar study protocol, while the Control group performed a resting period and the Intervention group a CFT between study phases. This time we will not look at heart rate data but at cortisol values extracted from saliva samples that have been taken before and after the study phase."
      ]
    },
    {
      "cell_type": "code",
      "execution_count": null,
      "id": "bb8033c8-dd1b-4cc0-ae64-69dc2ba3c635",
      "metadata": {
        "tags": [],
        "id": "bb8033c8-dd1b-4cc0-ae64-69dc2ba3c635"
      },
      "outputs": [],
      "source": [
        "# run cell to load and visualize data\n",
        "data_cortisol = bp.example_data.get_saliva_example()\n",
        "sample_times = [-30, -1, 30, 40, 50, 60, 70]\n",
        "fig, ax = plt.subplots(figsize=(6, 3))\n",
        "bp.protocols.plotting.saliva_plot(\n",
        "    data=data_cortisol, saliva_type=\"cortisol\", sample_times=sample_times, test_times=[0, 30], sample_times_absolute=True,\n",
        "    test_title=\"Study Phase\", ax=ax,\n",
        ");"
      ]
    },
    {
      "cell_type": "code",
      "execution_count": null,
      "id": "e4c73c9e-e1be-45e2-a228-1ec8c812fa27",
      "metadata": {
        "tags": [],
        "id": "e4c73c9e-e1be-45e2-a228-1ec8c812fa27"
      },
      "outputs": [],
      "source": [
        "# run cell to extract features from cortisol data using BioPsyKit\n",
        "auc = bp.saliva.auc(\n",
        "    data_cortisol, saliva_type=\"cortisol\", sample_times=sample_times, compute_auc_post=True, remove_s0=True\n",
        ")\n",
        "max_inc = bp.saliva.max_increase(data_cortisol, saliva_type=\"cortisol\", remove_s0=True)\n",
        "slope = bp.saliva.slope(data_cortisol, sample_idx=[1, 4], sample_times=sample_times, saliva_type=\"cortisol\")\n",
        "\n",
        "cort_features = pd.concat([auc, max_inc, slope], axis=1)\n",
        "cort_features = bp.saliva.utils.saliva_feature_wide_to_long(cort_features, saliva_type=\"cortisol\")\n",
        "data_analysis = cort_features.reset_index()\n",
        "data_analysis.head()"
      ]
    },
    {
      "cell_type": "markdown",
      "id": "05f8f8b6-9d29-460b-9312-72e46a282f5e",
      "metadata": {
        "id": "05f8f8b6-9d29-460b-9312-72e46a282f5e"
      },
      "source": [
        "##### 3.1 Preparatory Analysis 1: Perform a Normality Check on ``data_analysis`` to test whether our samples come from a normal distribution:\n",
        "* Use the [pingouin.normality](https://pingouin-stats.org/build/html/generated/pingouin.normality.html) function\n",
        "* Perform the check for every feature-condition combination\n",
        "* Store your results in a data frame called ``results_normality``\n",
        "    * ``results_normality`` should have one row for every feature-condition combination and all the outputs of the pingouin function as columns\n",
        "    * Set the index of ``results_normality`` to ``saliva_feature`` and ``condition`` (in this order), set the index names accordingly\n",
        "* Sort the index of ``results_normality`` after performing all the tests"
      ]
    },
    {
      "cell_type": "code",
      "execution_count": null,
      "id": "6563e4e9-6db3-4f7a-a71b-55bbfcca02f1",
      "metadata": {
        "deletable": false,
        "nbgrader": {
          "cell_type": "code",
          "checksum": "2821704964cafc9693531f868a881d6f",
          "grade": false,
          "grade_id": "norm_cortisol",
          "locked": false,
          "schema_version": 3,
          "solution": true,
          "task": false
        },
        "tags": [],
        "id": "6563e4e9-6db3-4f7a-a71b-55bbfcca02f1"
      },
      "outputs": [],
      "source": [
        "# YOUR CODE HERE\n",
        "raise NotImplementedError()"
      ]
    },
    {
      "cell_type": "code",
      "execution_count": null,
      "id": "f7f91493-e671-44fd-ba52-642bc65a39ea",
      "metadata": {
        "deletable": false,
        "editable": false,
        "nbgrader": {
          "cell_type": "code",
          "checksum": "6849c336cfe7170fe19b01d863c3195a",
          "grade": true,
          "grade_id": "norm_cortisol_test",
          "locked": true,
          "points": 2,
          "schema_version": 3,
          "solution": false,
          "task": false
        },
        "tags": [],
        "id": "f7f91493-e671-44fd-ba52-642bc65a39ea"
      },
      "outputs": [],
      "source": [
        "# run tests to check your implementation\n",
        "assert type(results_normality) == pd.DataFrame, \"Check if results_normality is of type pandas.DataFrame\"\n",
        "assert results_normality.shape[0] == 10, \"Check if you performed and stored the results for all condition-saliva feature combinations\"\n",
        "assert list(results_normality.index.names) == [\"saliva_feature\", \"condition\"], \"Check if you set the names and order of your indices correctly, saliva_feature comes first\"\n",
        "assert list(results_normality.columns) == [\"W\", \"pval\", \"normal\"], \"Check if you performed the right analysis\"\n",
        "assert type(results_normality.index) == pd.MultiIndex and list(results_normality.index.names) == [\"saliva_feature\", \"condition\"], \"Check if you set saliva feature and condition as index\"\n",
        "assert list(results_normality.index.get_level_values(1)) == [\"Control\", \"Intervention\"] * 5, \"Check if you sorted your index\"\n",
        "assert results_normality[\"normal\"].to_list() == [True, True, False, True, False, True, False, True, False, True], \"Check if you set the parameters correctly\""
      ]
    },
    {
      "cell_type": "markdown",
      "id": "e7614cf3-b62c-4573-9e3a-2aeed76e87d3",
      "metadata": {
        "id": "e7614cf3-b62c-4573-9e3a-2aeed76e87d3"
      },
      "source": [
        "##### 3.2 Preparatory Analysis 2: Perform a Homoscedasticity Check on ``data_analysis`` to test for the equality of variances:\n",
        "* Use the [pingouin.homoscedasticity](https://pingouin-stats.org/build/html/generated/pingouin.homoscedasticity.html#pingouin.homoscedasticity) function\n",
        "* Perform the check for every feature\n",
        "* Store your results in a data frame called ``results_variance``\n",
        "    * ``results_variance`` should have one row for every feature and all the outputs of the pingouin function as columns\n",
        "    * Set the saliva features as the indices of ``results_variance``"
      ]
    },
    {
      "cell_type": "code",
      "execution_count": null,
      "id": "1a322a96-180f-4c32-a6c5-b05eda6ef1ca",
      "metadata": {
        "deletable": false,
        "nbgrader": {
          "cell_type": "code",
          "checksum": "4f18026dd24235e01db884064b411f63",
          "grade": false,
          "grade_id": "var_cortisol",
          "locked": false,
          "schema_version": 3,
          "solution": true,
          "task": false
        },
        "tags": [],
        "id": "1a322a96-180f-4c32-a6c5-b05eda6ef1ca"
      },
      "outputs": [],
      "source": [
        "# YOUR CODE HERE\n",
        "raise NotImplementedError()"
      ]
    },
    {
      "cell_type": "code",
      "execution_count": null,
      "id": "98e7b749-ec07-47d1-985e-f557a2afc6a9",
      "metadata": {
        "deletable": false,
        "editable": false,
        "nbgrader": {
          "cell_type": "code",
          "checksum": "aee7da21c71f92d46a3160883a30d918",
          "grade": true,
          "grade_id": "var_cortisol_test",
          "locked": true,
          "points": 2,
          "schema_version": 3,
          "solution": false,
          "task": false
        },
        "tags": [],
        "id": "98e7b749-ec07-47d1-985e-f557a2afc6a9"
      },
      "outputs": [],
      "source": [
        "# run tests to check your implementation\n",
        "assert type(results_variance) == pd.DataFrame, \"Check if results_variance is of type pandas.DataFrame\"\n",
        "assert results_variance.shape[0] == 5, \"Check if you performed the test for all 5 saliva features\"\n",
        "assert list(results_variance.columns) == [\"W\", \"pval\", \"equal_var\"], \"Check if you performed the right analysis\"\n",
        "assert type(results_variance.index) == pd.Index and list(results_variance.index.names) ==[\"saliva_feature\"], \"Check if you set only saliva_feature as index\"\n",
        "assert list(results_variance.index) == [\"auc_g\", \"auc_i\", \"auc_i_post\", \"max_inc\", \"slope14\"], \"Check if you set the index correctly\"\n",
        "assert list(results_variance[\"equal_var\"]) == [True] * 5, \"Check if you set the parameters correctly\""
      ]
    },
    {
      "cell_type": "markdown",
      "id": "78bd753e-44f7-48f0-8b1f-505e2f860a63",
      "metadata": {
        "id": "78bd753e-44f7-48f0-8b1f-505e2f860a63"
      },
      "source": [
        "##### 3.3 Statistical Test: Perform a statistical analysis for the cortisol features stored in ``data_analysis`` to test for differences between group means (differences between conditions separately for all the saliva features):\n",
        "* Follow the guidelines described in the lecture slides or provided by [pingouin](https://pingouin-stats.org/build/html/guidelines.html)\n",
        "* You should use the ``pingouin`` functions for your analysis\n",
        "* Store your results in a data frame called ``results_statistics``\n",
        "    * ``results_statistics`` should have one row for every saliva feature and all the outputs of the ``pingouin`` function as columns\n",
        "    * Set the saliva features as the indices of ``results_statistics``\n",
        "\n",
        "**Hint**: Since we computed features on dependent saliva samples, you should have a look into statistical tests with a *mixed design*."
      ]
    },
    {
      "cell_type": "code",
      "execution_count": null,
      "id": "057d558f-b00c-4aff-b7a2-b2c752ed78a6",
      "metadata": {
        "deletable": false,
        "nbgrader": {
          "cell_type": "code",
          "checksum": "58afb0e7d8e6288dcf5becd645c629c6",
          "grade": false,
          "grade_id": "stats_cortisol",
          "locked": false,
          "schema_version": 3,
          "solution": true,
          "task": false
        },
        "tags": [],
        "id": "057d558f-b00c-4aff-b7a2-b2c752ed78a6"
      },
      "outputs": [],
      "source": [
        "# YOUR CODE HERE\n",
        "raise NotImplementedError()"
      ]
    },
    {
      "cell_type": "code",
      "execution_count": null,
      "id": "90d24070-ebdc-4c8e-a7fc-ac265efb150a",
      "metadata": {
        "deletable": false,
        "editable": false,
        "nbgrader": {
          "cell_type": "code",
          "checksum": "1ba0c3f09f733bb4da9ddb6108d58c60",
          "grade": true,
          "grade_id": "stats_cortisol_test",
          "locked": true,
          "points": 2,
          "schema_version": 3,
          "solution": false,
          "task": false
        },
        "tags": [],
        "id": "90d24070-ebdc-4c8e-a7fc-ac265efb150a"
      },
      "outputs": [],
      "source": [
        "# run tests to check your implementation\n",
        "assert type(results_statistics) == pd.DataFrame, \"Check if results_statistics is of type pandas.DataFrame\"\n",
        "assert results_statistics.shape[0] == 5, \"Check if you performed the test for all the saliva features\"\n",
        "assert results_statistics[\"Paired\"].sum() == 0, \"Check your analysis parameters\"\n",
        "assert list(results_statistics[\"Contrast\"])[0] == \"condition\" and list(results_statistics[\"A\"])[0] == \"Control\" and list(results_statistics[\"B\"])[0] == \"Intervention\", \"Check your analysis parameters\"\n",
        "assert results_statistics.loc[\"auc_g\", \"p-unc\"].round(3) == 0.359, \"Check if you performed the right type of test\"\n",
        "assert results_statistics.loc[\"auc_i\", \"p-unc\"].round(3) == 0.06, \"Check if you performed the right type of test\"\n",
        "assert results_statistics.loc[\"auc_i_post\", \"p-unc\"].round(3) == 0.068, \"Check if you performed the right type of test\"\n",
        "assert results_statistics.loc[\"max_inc\", \"p-unc\"].round(3) == 0.04, \"Check if you performed the right type of test\"\n",
        "assert results_statistics.loc[\"slope14\", \"p-unc\"].round(3) == 0.038, \"Check if you performed the right type of test\""
      ]
    }
  ],
  "metadata": {
    "kernelspec": {
      "display_name": "Python 3",
      "name": "python3"
    },
    "language_info": {
      "name": "python"
    },
    "colab": {
      "provenance": [],
      "include_colab_link": true
    }
  },
  "nbformat": 4,
  "nbformat_minor": 5
}